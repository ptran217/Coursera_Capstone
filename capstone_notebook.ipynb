{
  "nbformat": 4,
  "nbformat_minor": 0,
  "metadata": {
    "kernelspec": {
      "display_name": "Python [conda env:PaulEnv] *",
      "language": "python",
      "name": "conda-env-PaulEnv-py"
    },
    "language_info": {
      "codemirror_mode": {
        "name": "ipython",
        "version": 3
      },
      "file_extension": ".py",
      "mimetype": "text/x-python",
      "name": "python",
      "nbconvert_exporter": "python",
      "pygments_lexer": "ipython3",
      "version": "3.7.4"
    },
    "colab": {
      "name": "capstone_notebook.ipynb",
      "provenance": []
    }
  },
  "cells": [
    {
      "cell_type": "markdown",
      "metadata": {
        "id": "9vagiSgNGvsT",
        "colab_type": "text"
      },
      "source": [
        "# Capstone Notebook"
      ]
    },
    {
      "cell_type": "markdown",
      "metadata": {
        "id": "zUtXLjxuGvsU",
        "colab_type": "text"
      },
      "source": [
        "This notebook will contain all work for the Applied Data Science Capstone course"
      ]
    },
    {
      "cell_type": "code",
      "metadata": {
        "id": "c8IBC2SFGvsV",
        "colab_type": "code",
        "colab": {}
      },
      "source": [
        "import pandas as pd\n",
        "import numpy as np"
      ],
      "execution_count": null,
      "outputs": []
    },
    {
      "cell_type": "code",
      "metadata": {
        "id": "mtAjIGCdGvsb",
        "colab_type": "code",
        "colab": {},
        "outputId": "96853ac1-0d2f-4847-d070-eedd8a3a7c10"
      },
      "source": [
        "print(\"Hello Capstone Project Course!\")"
      ],
      "execution_count": null,
      "outputs": [
        {
          "output_type": "stream",
          "text": [
            "Hello Capstone Project Course!\n"
          ],
          "name": "stdout"
        }
      ]
    },
    {
      "cell_type": "markdown",
      "metadata": {
        "id": "upUlwMJMIdeZ",
        "colab_type": "text"
      },
      "source": [
        "## Introduction/Business Problem\n",
        "Australia is the country of coffee. If you are looking to open a Cafe and sell coffee as an entrepreneur, you will be facing tough competition in a potentially saturated market. Therefore a key problem to solve is:\n",
        "\n",
        "**Where is the best place to open up a Cafe?**\n",
        "\n",
        "Solving this problem gives us information and prevents opening a Cafe in a non-saturated area may provide a new business the best opportunity to thrive without competition. This is a very difficult question to solve and another issue arises:\n",
        "\n",
        "**How do we measure/determine which is the best place to start a Cafe?**\n",
        "\n",
        "Data science and exploration of location data will be key to finding the solution.\n",
        "\n",
        "## Solution\n",
        "To solve the problem, we will need the following data:\n",
        "\n",
        "\n",
        "*   List of neighbourhoods in Sydney New South Wales. This defines the scope of the project to the city of Sydney.\n",
        "*   Latitude and longitude coordinates of these neighbourhoods for visualisation, clustering and other purposes.\n",
        "*   Venue data for finding saturated neighbourhoods of Cafes.\n",
        "\n",
        "\n"
      ]
    },
    {
      "cell_type": "code",
      "metadata": {
        "id": "SBWAu2JYGvsh",
        "colab_type": "code",
        "colab": {}
      },
      "source": [
        ""
      ],
      "execution_count": null,
      "outputs": []
    }
  ]
}